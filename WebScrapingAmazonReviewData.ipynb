{
  "nbformat": 4,
  "nbformat_minor": 0,
  "metadata": {
    "colab": {
      "provenance": []
    },
    "kernelspec": {
      "name": "python3",
      "display_name": "Python 3"
    },
    "language_info": {
      "name": "python"
    }
  },
  "cells": [
    {
      "cell_type": "code",
      "execution_count": 1,
      "metadata": {
        "colab": {
          "base_uri": "https://localhost:8080/"
        },
        "id": "kW2j86hlVuNU",
        "outputId": "70fe7e5d-dd55-4f41-8c32-3b926863e45d"
      },
      "outputs": [
        {
          "output_type": "stream",
          "name": "stdout",
          "text": [
            "Requirement already satisfied: requests in /usr/local/lib/python3.10/dist-packages (2.27.1)\n",
            "Requirement already satisfied: beautifulsoup4 in /usr/local/lib/python3.10/dist-packages (4.11.2)\n",
            "Requirement already satisfied: urllib3<1.27,>=1.21.1 in /usr/local/lib/python3.10/dist-packages (from requests) (1.26.16)\n",
            "Requirement already satisfied: certifi>=2017.4.17 in /usr/local/lib/python3.10/dist-packages (from requests) (2023.5.7)\n",
            "Requirement already satisfied: charset-normalizer~=2.0.0 in /usr/local/lib/python3.10/dist-packages (from requests) (2.0.12)\n",
            "Requirement already satisfied: idna<4,>=2.5 in /usr/local/lib/python3.10/dist-packages (from requests) (3.4)\n",
            "Requirement already satisfied: soupsieve>1.2 in /usr/local/lib/python3.10/dist-packages (from beautifulsoup4) (2.4.1)\n"
          ]
        }
      ],
      "source": [
        "pip install requests beautifulsoup4"
      ]
    },
    {
      "cell_type": "code",
      "source": [
        "import requests\n",
        "from bs4 import BeautifulSoup"
      ],
      "metadata": {
        "id": "8FP0MAc3Vyrd"
      },
      "execution_count": 2,
      "outputs": []
    },
    {
      "cell_type": "code",
      "source": [
        "def scrape_amazon_reviews(product_url):\n",
        "    headers = {\n",
        "        \"User-Agent\": \"Mozilla/5.0 (Windows NT 10.0; Win64; x64) AppleWebKit/537.36 (KHTML, like Gecko) Chrome/58.0.3029.110 Safari/537.3\"}\n",
        "    response = requests.get(product_url, headers=headers)\n",
        "\n",
        "    if response.status_code == 200:\n",
        "        soup = BeautifulSoup(response.content, 'html.parser')\n",
        "        reviews = []\n",
        "\n",
        "        review_elements = soup.find_all('span', {'data-hook': 'review-body'})\n",
        "\n",
        "        for review_elem in review_elements:\n",
        "            review_text = review_elem.get_text().strip()\n",
        "            reviews.append(review_text)\n",
        "\n",
        "        return reviews\n",
        "\n",
        "    else:\n",
        "        print(\"Error: Failed to fetch the web page\")\n",
        "        return []"
      ],
      "metadata": {
        "id": "rCoyWGbgV1ue"
      },
      "execution_count": 3,
      "outputs": []
    },
    {
      "cell_type": "code",
      "source": [
        "if __name__ == \"__main__\":\n",
        "    product_url = \"https://www.amazon.ca/gp/product/B07CRG94G3\"  # Replace with the actual Amazon product URL\n",
        "    reviews = scrape_amazon_reviews(product_url)\n",
        "\n",
        "    if not reviews:\n",
        "        print(\"No reviews found.\")\n",
        "    else:\n",
        "        # Display the reviews\n",
        "        for i, review in enumerate(reviews):\n",
        "            print(f\"Review {i+1}: {review}\\n\")"
      ],
      "metadata": {
        "colab": {
          "base_uri": "https://localhost:8080/"
        },
        "id": "4KG0DOGNV4-k",
        "outputId": "c7d88c09-7338-4b5c-8aee-35a50ecfb398"
      },
      "execution_count": 4,
      "outputs": [
        {
          "output_type": "stream",
          "name": "stdout",
          "text": [
            "Error: Failed to fetch the web page\n",
            "No reviews found.\n"
          ]
        }
      ]
    },
    {
      "cell_type": "code",
      "source": [],
      "metadata": {
        "id": "lLBPs_hTWVcF"
      },
      "execution_count": null,
      "outputs": []
    }
  ]
}